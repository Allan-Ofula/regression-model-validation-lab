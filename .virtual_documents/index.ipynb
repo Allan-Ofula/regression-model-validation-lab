





# Run this cell without changes
import pandas as pd
import numpy as np
ames = pd.read_csv('ames.csv', index_col=0)
ames





# Your code here: split the data into training and test sets

from sklearn.model_selection import train_test_split

# Splitting into X (features) and y (target)
X = ames.drop(columns="SalePrice")
y = ames["SalePrice"]

# Performing train-test split
X_train, X_test, y_train, y_test = train_test_split(
    X, y, test_size=0.25, random_state=42  
)





# Run this cell without changes
from sklearn.preprocessing import FunctionTransformer, OneHotEncoder

continuous = ['LotArea', '1stFlrSF', 'GrLivArea']
categoricals = ['BldgType', 'KitchenQual', 'Street']

# Instantiate transformers
log_transformer = FunctionTransformer(np.log, validate=True)
ohe = OneHotEncoder(drop='first', sparse_output=False)  # <-- corrected here

# Fit transformers
log_transformer.fit(X_train[continuous])
ohe.fit(X_train[categoricals])

# Transform training data
X_train = pd.concat([
    pd.DataFrame(log_transformer.transform(X_train[continuous]), index=X_train.index),
    pd.DataFrame(ohe.transform(X_train[categoricals]), index=X_train.index)
], axis=1)

# Transform test data
X_test = pd.concat([
    pd.DataFrame(log_transformer.transform(X_test[continuous]), index=X_test.index),
    pd.DataFrame(ohe.transform(X_test[categoricals]), index=X_test.index)
], axis=1)





# Your code here: import the linear regression model class, initialize a model

from sklearn.linear_model import LinearRegression

# Initializing the model
model = LinearRegression()


# Your code here: fit the model to train data

# Fitting the model
model.fit(X_train, y_train)





# Your code here: generate predictions for both sets

# Prediction on training set
y_train_pred = model.predict(X_train)

# Prediction on test set
y_test_pred = model.predict(X_test)





# Your code here: calculate training and test MSE

from sklearn.metrics import mean_squared_error

# Calculating training and test MSE
train_mse = mean_squared_error(y_train, y_train_pred)
test_mse = mean_squared_error(y_test, y_test_pred)

print(f"Training MSE: {train_mse}")
print(f"Test MSE: {test_mse}")











# Your code here

import matplotlib.pyplot as plt
from sklearn.model_selection import train_test_split

# Storing training sizes and errors
train_sizes = np.arange(0.5, 0.95, 0.05)
train_errors = []
test_errors = []

for train_size in train_sizes:
    # Splitting data
    X = ames.drop(columns='SalePrice')
    y = ames['SalePrice']
    X_train, X_test, y_train, y_test = train_test_split(X, y, train_size=train_size, random_state=42)

    # Preprocessing
    log_transformer = FunctionTransformer(np.log, validate=True)
    ohe = OneHotEncoder(drop='first', sparse_output=False)
    
    # Fitting on training model
    log_transformer.fit(X_train[continuous])
    ohe.fit(X_train[categoricals])

    # Transforming train
    X_train_transformed = pd.concat([
        pd.DataFrame(log_transformer.transform(X_train[continuous]), index=X_train.index),
        pd.DataFrame(ohe.transform(X_train[categoricals]), index=X_train.index)
    ], axis=1)

    # Transforming test
    X_test_transformed = pd.concat([
        pd.DataFrame(log_transformer.transform(X_test[continuous]), index=X_test.index),
        pd.DataFrame(ohe.transform(X_test[categoricals]), index=X_test.index)
    ], axis=1)

    # Training model
    model = LinearRegression()
    model.fit(X_train_transformed, y_train)

    # Predicting
    y_train_pred = model.predict(X_train_transformed)
    y_test_pred = model.predict(X_test_transformed)

    # Errors
    train_mse = mean_squared_error(y_train, y_train_pred)
    test_mse = mean_squared_error(y_test, y_test_pred)

    train_errors.append(train_mse)
    test_errors.append(test_mse)

# Plotting
plt.plot(train_sizes, train_errors, label='Training Error (MSE)')
plt.plot(train_sizes, test_errors, label='Test Error (MSE)')
plt.xlabel('Training Size')
plt.ylabel('MSE')
plt.title('Training vs Test Error as Training Size Varies')

# Display
plt.legend()
plt.show()





# Your code here

# Storing training sizes and averaged errors
train_sizes = np.arange(0.5, 0.95, 0.05)
train_errors_avg = []
test_errors_avg = []

for train_size in train_sizes:
    temp_train_errors = []
    temp_test_errors = []
    
    for seed in range(10):  # 10 different random splits
        # Split data
        X = ames.drop(columns='SalePrice')
        y = ames['SalePrice']
        X_train, X_test, y_train, y_test = train_test_split(X, y, train_size=train_size, random_state=seed)

        # Preprocessing
        log_transformer = FunctionTransformer(np.log, validate=True)
        ohe = OneHotEncoder(drop='first', sparse_output=False)
        
        log_transformer.fit(X_train[continuous])
        ohe.fit(X_train[categoricals])

        X_train_transformed = pd.concat([
            pd.DataFrame(log_transformer.transform(X_train[continuous]), index=X_train.index),
            pd.DataFrame(ohe.transform(X_train[categoricals]), index=X_train.index)
        ], axis=1)

        X_test_transformed = pd.concat([
            pd.DataFrame(log_transformer.transform(X_test[continuous]), index=X_test.index),
            pd.DataFrame(ohe.transform(X_test[categoricals]), index=X_test.index)
        ], axis=1)

        # Training model
        model = LinearRegression()
        model.fit(X_train_transformed, y_train)

        # Predicting
        y_train_pred = model.predict(X_train_transformed)
        y_test_pred = model.predict(X_test_transformed)

        # Errors
        temp_train_errors.append(mean_squared_error(y_train, y_train_pred))
        temp_test_errors.append(mean_squared_error(y_test, y_test_pred))

    # Averaging errors
    train_errors_avg.append(np.mean(temp_train_errors))
    test_errors_avg.append(np.mean(temp_test_errors))

# Plotting
plt.plot(train_sizes, train_errors_avg, label='Average Training Error (MSE)')
plt.plot(train_sizes, test_errors_avg, label='Average Test Error (MSE)')
plt.xlabel('Training Size')
plt.ylabel('MSE')
plt.title('Avg Training vs Test Error (10 runs) as Training Size Varies')

# Display
plt.legend()
plt.show()









